{
 "cells": [
  {
   "cell_type": "code",
   "execution_count": 1,
   "metadata": {},
   "outputs": [
    {
     "name": "stdin",
     "output_type": "stream",
     "text": [
      "Do you want to calculate factorial or summation? Summation\n",
      "Enter a number:  10\n"
     ]
    },
    {
     "name": "stdout",
     "output_type": "stream",
     "text": [
      "sum_10 = 55\n"
     ]
    },
    {
     "name": "stdin",
     "output_type": "stream",
     "text": [
      "Calculate another number? (yes/no)  yes\n",
      "Do you want to calculate factorial or summation? Factorial\n",
      "Enter a number:  10\n"
     ]
    },
    {
     "name": "stdout",
     "output_type": "stream",
     "text": [
      "10! = 3628800\n"
     ]
    },
    {
     "name": "stdin",
     "output_type": "stream",
     "text": [
      "Calculate another number? (yes/no)  no\n"
     ]
    }
   ],
   "source": [
    "# Function to calculate the factorial of a number\n",
    "def factorial(n):\n",
    "    value = 1\n",
    "    for i in range (1, n+1):\n",
    "        value *= i\n",
    "    return value\n",
    "\n",
    "# Function to calculate the summation of a number, i.e., 1+2+3+4+...+n\n",
    "def summation(n):\n",
    "    value = 0\n",
    "    for i in range (1, n+1):\n",
    "        value += i\n",
    "    return value\n",
    "    \n",
    "\n",
    "\n",
    "while True:\n",
    "    name = input (\"Do you want to calculate factorial or summation?\")     # Name input\n",
    "    if name.lower() == \"factorial\":\n",
    "        # Prompt the user for a number\n",
    "        num = input (\"Enter a number: \")    # Check if the input is valid\n",
    "        if not num.isdigit():\n",
    "            print (\"Invalid input! Please enter a positive integer.\")\n",
    "            continue\n",
    "    \n",
    "        num = int(num)\n",
    "        fact = factorial(num)    # Calculate and output the factorial\n",
    "        print ( f\"{num}! = {fact}\" )\n",
    "\n",
    "    if name.lower() == \"summation\":\n",
    "        num = input (\"Enter a number: \")\n",
    "        if not num.isdigit():\n",
    "            print (\"Invalid input! Hi enter a positive integer.\")\n",
    "            continue\n",
    "            \n",
    "        num = int(num)\n",
    "        Sum = summation(num)\n",
    "        print ( f\"sum_{num} = {Sum}\" )\n",
    "            \n",
    "    another = input (\"Calculate another number? (yes/no) \")\n",
    "    if another.lower() != \"yes\":\n",
    "        break"
   ]
  },
  {
   "cell_type": "code",
   "execution_count": null,
   "metadata": {},
   "outputs": [],
   "source": []
  }
 ],
 "metadata": {
  "kernelspec": {
   "display_name": "Python 3",
   "language": "python",
   "name": "python3"
  },
  "language_info": {
   "codemirror_mode": {
    "name": "ipython",
    "version": 3
   },
   "file_extension": ".py",
   "mimetype": "text/x-python",
   "name": "python",
   "nbconvert_exporter": "python",
   "pygments_lexer": "ipython3",
   "version": "3.8.3"
  }
 },
 "nbformat": 4,
 "nbformat_minor": 4
}
